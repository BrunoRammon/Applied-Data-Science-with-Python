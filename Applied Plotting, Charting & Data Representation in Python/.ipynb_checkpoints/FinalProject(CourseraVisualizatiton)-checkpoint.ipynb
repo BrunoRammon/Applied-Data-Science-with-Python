{
 "cells": [
  {
   "cell_type": "code",
   "execution_count": 277,
   "metadata": {
    "id": "YdEMTUdJsI6R"
   },
   "outputs": [],
   "source": [
    "import requests as r\n",
    "import pandas as pd\n",
    "from IPython.display import display\n",
    "import matplotlib.pyplot as plt\n",
    "import time\n",
    "import datetime as dt\n",
    "# import seaborn as sns\n",
    "# %matplotlib notebook\n",
    "%matplotlib inline"
   ]
  },
  {
   "cell_type": "code",
   "execution_count": 278,
   "metadata": {
    "id": "nJejC97s3Z8U"
   },
   "outputs": [],
   "source": [
    "urlCTs = 'https://api.covid19api.com/countries'\n",
    "\n",
    "countries = None\n",
    "while True:\n",
    "    countries = r.get(urlCTs)\n",
    "    if(countries.status_code == 200): \n",
    "      break\n",
    "    time.sleep(1.0)\n",
    "\n",
    "lstCts = countries.json()\n",
    "dfCountries = pd.DataFrame.from_records(lstCts)\n",
    "dfCountries.set_index('Country',inplace=True)\n",
    "# display(dfCountries)\n",
    "# dfCountries.loc['Brazil'][0]"
   ]
  },
  {
   "cell_type": "code",
   "execution_count": 279,
   "metadata": {
    "colab": {
     "base_uri": "https://localhost:8080/"
    },
    "id": "IqRIAeerd6c9",
    "outputId": "4853d04f-f436-47ee-f67c-09a2b3b23541"
   },
   "outputs": [
    {
     "name": "stdout",
     "output_type": "stream",
     "text": [
      "Type a country name or type 0 to quit: Brazil\n",
      "Type a country name or type 0 to quit: Australia\n",
      "Type a country name or type 0 to quit: Italy\n",
      "Type a country name or type 0 to quit: 0\n"
     ]
    }
   ],
   "source": [
    "#input of the user\n",
    "countryList = []\n",
    "countries = []\n",
    "while True: \n",
    "  country = input('Type a country name or type 0 to quit: ')\n",
    "  if country == '0': break\n",
    "  countries.append(country)\n",
    "  countryList.append(dfCountries.loc[country][0])"
   ]
  },
  {
   "cell_type": "code",
   "execution_count": 280,
   "metadata": {
    "id": "1oD726HPsFbF"
   },
   "outputs": [],
   "source": [
    "#processing urls of each country\n",
    "urls = countryList.copy()\n",
    "for i in range(len(urls)):\n",
    "  urls[i] = 'https://api.covid19api.com/dayone/country/'+urls[i]\n",
    "# print(urls)"
   ]
  },
  {
   "cell_type": "code",
   "execution_count": 281,
   "metadata": {
    "id": "vgjHTRDDsCE9"
   },
   "outputs": [],
   "source": [
    "#retriving data for each country\n",
    "ans = urls.copy()\n",
    "for i in range(len(urls)):\n",
    "  while True:\n",
    "    ans[i] = r.get(urls[i])\n",
    "    if(ans[i].status_code == 200): \n",
    "      break\n",
    "    time.sleep(1.0)"
   ]
  },
  {
   "cell_type": "code",
   "execution_count": 282,
   "metadata": {
    "id": "xSrlCTI9r-69"
   },
   "outputs": [],
   "source": [
    "#retriving data for each country\n",
    "raw_datas = []\n",
    "for item in ans:\n",
    "   raw_datas.append(item.json())"
   ]
  },
  {
   "cell_type": "code",
   "execution_count": 283,
   "metadata": {
    "id": "KnOwjDxZnTkt"
   },
   "outputs": [],
   "source": [
    "#Data cleaning\n",
    "countrycdT = []\n",
    "countrycdT.append(raw_datas[0][0]['CountryCode'])\n",
    "dfT = pd.DataFrame.from_records(raw_datas[0],exclude=['City','Province','CityCode','Lat','Lon','ID','Active','Recovered','Country','CountryCode'])\n",
    "dfT['Date'] = pd.to_datetime(dfT['Date'])\n",
    "dfT = dfT[['Confirmed','Deaths']].groupby(dfT['Date']).sum().reset_index()\n",
    "dfT['Lethality%'] = dfT['Deaths']/dfT['Confirmed']*100\n",
    "dfT.rename(columns={'Lethality%':'Lethality%'+countrycdT[0]},inplace=True)\n",
    "del(dfT['Deaths'])\n",
    "del(dfT['Confirmed'])\n",
    "\n",
    "\n",
    "for item in raw_datas[1:]:\n",
    "  countrycd = item[0]['CountryCode']\n",
    "  df = pd.DataFrame.from_records(item,exclude=['City','Province','CityCode','Lat','Lon','ID','Active','Recovered','Country','CountryCode'])\n",
    "  df['Date'] = pd.to_datetime(df['Date'])\n",
    "  df = df[['Confirmed','Deaths']].groupby(df['Date']).sum().reset_index()\n",
    "  df['Lethality%'] = df['Deaths']/df['Confirmed']*100\n",
    "  df.rename(columns={'Lethality%':'Lethality%'+countrycd},inplace=True)\n",
    "  del(df['Deaths'])\n",
    "  del(df['Confirmed'])\n",
    "  dfT = pd.merge(dfT, df, how='inner', on=['Date'])\n",
    "  countrycdT.append(countrycd)\n",
    "\n",
    "# display(dfT)\n",
    "# print(countrycdT)"
   ]
  },
  {
   "cell_type": "code",
   "execution_count": 284,
   "metadata": {
    "colab": {
     "base_uri": "https://localhost:8080/",
     "height": 322
    },
    "id": "ccekZfiog0z7",
    "outputId": "07ae8353-3a13-46b5-e127-fea4d452ad6d"
   },
   "outputs": [
    {
     "data": {
      "image/png": "[encoded data removed]",
      "text/plain": [
       "<Figure size 432x288 with 1 Axes>"
      ]
     },
     "metadata": {
      "needs_background": "light"
     },
     "output_type": "display_data"
    }
   ],
   "source": [
    "#Visualization\n",
    "n = len(dfT)\n",
    "\n",
    "for i in range(len(countryList)):\n",
    "  plt.plot(range(n),dfT['Lethality%'+countrycdT[i]].tolist(), label=countries[i])\n",
    "\n",
    "plt.gca().set_xlim(0,n-1)\n",
    "plt.gca().set_xlabel('Months')\n",
    "plt.gca().set_title('Daily COVID-19 Lethality(%)')\n",
    "# plt.gca().set_ylim(0,8)\n",
    "dfNames = dfT['Date'].iloc[0::60].dt.year.apply(str)+'-'+dfT['Date'].iloc[0::60].dt.month.apply(lambda x: str(x) if x//10>=1 else '0'+str(x))\n",
    "dfNames = dfNames.reset_index() \n",
    "\n",
    "plt.xticks(dfNames['index'],dfNames['Date'],alpha=0.8,rotation=45)\n",
    "plt.legend()\n",
    "plt.show()"
   ]
  },
  {
   "cell_type": "code",
   "execution_count": null,
   "metadata": {
    "id": "BRJ7kxZ41mg9"
   },
   "outputs": [],
   "source": [
    ""
   ]
  }
 ],
 "metadata": {
  "colab": {
   "collapsed_sections": [],
   "name": "FinalProject(CourseraVisualizatiton).ipynb",
   "provenance": []
  },
  "kernelspec": {
   "display_name": "Python 3",
   "name": "python3"
  },
  "language_info": {
   "name": "python"
  }
 },
 "nbformat": 4,
 "nbformat_minor": 0
}
