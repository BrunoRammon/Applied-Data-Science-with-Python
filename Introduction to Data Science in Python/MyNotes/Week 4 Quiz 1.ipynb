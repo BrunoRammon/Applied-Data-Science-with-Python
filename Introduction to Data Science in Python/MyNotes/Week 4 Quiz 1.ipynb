{
 "cells": [
  {
   "cell_type": "code",
   "execution_count": 4,
   "metadata": {},
   "outputs": [
    {
     "name": "stdout",
     "output_type": "stream",
     "text": [
      "46\n"
     ]
    }
   ],
   "source": [
    "import numpy as np\n",
    "\n",
    "a = np.arange(8)\n",
    "b = a[4:6]\n",
    "b[:] = 40\n",
    "c = a[4] + a[6]\n",
    "\n",
    "print(c)"
   ]
  },
  {
   "cell_type": "code",
   "execution_count": 11,
   "metadata": {},
   "outputs": [
    {
     "data": {
      "text/plain": [
       "True"
      ]
     },
     "execution_count": 11,
     "metadata": {},
     "output_type": "execute_result"
    }
   ],
   "source": [
    "import re\n",
    "s = 'ABCAC'\n",
    "re.match('A', s) == True\n",
    "bool(re.match('A', s)) == True"
   ]
  },
  {
   "cell_type": "code",
   "execution_count": 44,
   "metadata": {},
   "outputs": [
    {
     "name": "stdout",
     "output_type": "stream",
     "text": [
      "['C', 'F', 'B']\n"
     ]
    }
   ],
   "source": [
    "s = 'ACAABAACAAABACDBADDDFSDDDFFSSSASDAFAAACBAAAFASD'\n",
    "\n",
    "result = []\n",
    "# compete the pattern below\n",
    "pattern = '([A-F])(?=AAA)'\n",
    "# print(re.findall(pattern,s))\n",
    "for item in re.finditer(pattern, s):\n",
    "  # identify the group number below.\n",
    "  result.append(item.group())\n",
    "\n",
    "print(result)"
   ]
  },
  {
   "cell_type": "code",
   "execution_count": 21,
   "metadata": {},
   "outputs": [
    {
     "data": {
      "text/plain": [
       "'d'"
      ]
     },
     "execution_count": 21,
     "metadata": {},
     "output_type": "execute_result"
    }
   ],
   "source": [
    "import pandas as pd\n",
    "\n",
    "df = pd.Series({'d':4,'b':7,'a':-5,'c':3})\n",
    "df.index[0]"
   ]
  },
  {
   "cell_type": "code",
   "execution_count": 34,
   "metadata": {},
   "outputs": [
    {
     "name": "stdout",
     "output_type": "stream",
     "text": [
      "Ban       NaN\n",
      "Blueb     NaN\n",
      "Man      40.0\n",
      "Plain     NaN\n",
      "Straw    35.0\n",
      "Van      61.0\n",
      "dtype: float64\n",
      "False\n",
      "False\n",
      "True\n",
      "False\n"
     ]
    }
   ],
   "source": [
    "\n",
    "s1 = pd.Series({'Man':20,'Straw':15,'Blueb':18,'Van':31})\n",
    "s2 = pd.Series({'Straw':20,'Van':30,'Ban':20,'Man':20,'Plain':20})\n",
    "s3 = s1.add(s2)\n",
    "print(s3)\n",
    "print(s3['Blueb'] == s1.add(s2, fill_value = 0)['Blueb'])\n",
    "print(s3['Plain'] >= s3['Man'])\n",
    "print(s3['Man'] >=  s1.add(s2, fill_value = 0)['Man'])\n",
    "print(s3['Blueb'] == s1['Blueb'])"
   ]
  },
  {
   "cell_type": "code",
   "execution_count": 35,
   "metadata": {},
   "outputs": [
    {
     "name": "stdout",
     "output_type": "stream",
     "text": [
      "b    1\n",
      "c    2\n",
      "d    3\n",
      "e    4\n",
      "dtype: int64\n",
      "b    1\n",
      "c    2\n",
      "d    3\n",
      "dtype: int64\n",
      "b    1\n",
      "c    2\n",
      "d    3\n",
      "dtype: int64\n",
      "b    1\n",
      "c    2\n",
      "d    3\n",
      "dtype: int64\n"
     ]
    }
   ],
   "source": [
    "S = pd.Series(np.arange(5), index=['a', 'b', 'c', 'd', 'e'])\n",
    "\n",
    "print(S['b':'e'])\n",
    "print(S[['b', 'c', 'd']])\n",
    "print(S[S <= 3][S > 0])\n",
    "print(S[1:4])\n"
   ]
  },
  {
   "cell_type": "code",
   "execution_count": 39,
   "metadata": {},
   "outputs": [
    {
     "name": "stdout",
     "output_type": "stream",
     "text": [
      "     a   b   c\n",
      "R1   5   6  20\n",
      "R2   5  82  28\n",
      "R3  71  31  92\n",
      "R4  67  37  49\n",
      "88\n"
     ]
    }
   ],
   "source": [
    "df=pd.DataFrame([[5,6,20],[5,82,28],[71,31,92],[67,37,49]])\n",
    "df.rename(columns={0:'a',1:'b',2:'c'},index={0:'R1',1:'R2',2:'R3',3:'R4'},inplace=True)\n",
    "\n",
    "print(df)\n",
    "\n",
    "\n",
    "f = lambda x: x.max() + x.min()\n",
    "df_new = df.apply(f)\n",
    "\n",
    "print(df_new[1])"
   ]
  },
  {
   "cell_type": "code",
   "execution_count": 40,
   "metadata": {},
   "outputs": [
    {
     "data": {
      "text/plain": [
       "30.0"
      ]
     },
     "execution_count": 40,
     "metadata": {},
     "output_type": "execute_result"
    }
   ],
   "source": [
    "df=pd.DataFrame([['item_1','A',10.0],['item_1','B',20.0],['item_1','C',np.nan],['item_2','A',5.0],\n",
    "                 ['item_2','B',10.0],['item_2','C',15.0]])\n",
    "df.rename(columns={0:'Item',1:'Store',2:'Quantity sold'},inplace=True)\n",
    "df.groupby('Item').sum().iloc[0]['Quantity sold']"
   ]
  },
  {
   "cell_type": "code",
   "execution_count": null,
   "metadata": {},
   "outputs": [],
   "source": []
  }
 ],
 "metadata": {
  "kernelspec": {
   "display_name": "Python 3",
   "language": "python",
   "name": "python3"
  },
  "language_info": {
   "codemirror_mode": {
    "name": "ipython",
    "version": 3
   },
   "file_extension": ".py",
   "mimetype": "text/x-python",
   "name": "python",
   "nbconvert_exporter": "python",
   "pygments_lexer": "ipython3",
   "version": "3.7.3"
  }
 },
 "nbformat": 4,
 "nbformat_minor": 2
}
