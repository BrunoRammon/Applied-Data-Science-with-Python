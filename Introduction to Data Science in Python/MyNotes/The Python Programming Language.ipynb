{
 "cells": [
  {
   "cell_type": "markdown",
   "metadata": {},
   "source": [
    "# The Python Programming Language\n",
    "__Functions__"
   ]
  },
  {
   "cell_type": "code",
   "execution_count": 1,
   "metadata": {},
   "outputs": [
    {
     "data": {
      "text/plain": [
       "3"
      ]
     },
     "execution_count": 1,
     "metadata": {},
     "output_type": "execute_result"
    }
   ],
   "source": [
    "x = 1\n",
    "y = 2\n",
    "x+y"
   ]
  },
  {
   "cell_type": "code",
   "execution_count": 2,
   "metadata": {},
   "outputs": [
    {
     "data": {
      "text/plain": [
       "1"
      ]
     },
     "execution_count": 2,
     "metadata": {},
     "output_type": "execute_result"
    }
   ],
   "source": [
    "x"
   ]
  },
  {
   "cell_type": "code",
   "execution_count": 6,
   "metadata": {},
   "outputs": [
    {
     "name": "stdout",
     "output_type": "stream",
     "text": [
      "3\n"
     ]
    }
   ],
   "source": [
    "def add_number(x,y,z):\n",
    "    return x + y\n",
    "\n",
    "print(add_number(1,2,3))"
   ]
  },
  {
   "cell_type": "code",
   "execution_count": 10,
   "metadata": {},
   "outputs": [
    {
     "name": "stdout",
     "output_type": "stream",
     "text": [
      "None\n"
     ]
    }
   ],
   "source": [
    "#since python is a dynamically languange the types\n",
    "#declarations aren't requerid, so functions without return statement\n",
    "#actually return 'None', which is a reserved word in python.\n",
    "\n",
    "def returningNone(x,y,z):\n",
    "    x+y+z\n",
    "\n",
    "print(returningNone(1,2,3))"
   ]
  },
  {
   "cell_type": "code",
   "execution_count": 14,
   "metadata": {},
   "outputs": [
    {
     "name": "stdout",
     "output_type": "stream",
     "text": [
      "3\n",
      "6\n"
     ]
    }
   ],
   "source": [
    "def add_numbers(x, y, z=None):\n",
    "    if z == None:\n",
    "        return x + y\n",
    "    else:\n",
    "        return x + y + z\n",
    "\n",
    "print(add_numbers(1, 2))    \n",
    "print(add_numbers(1, 2, 3))"
   ]
  },
  {
   "cell_type": "code",
   "execution_count": 18,
   "metadata": {},
   "outputs": [
    {
     "name": "stdout",
     "output_type": "stream",
     "text": [
      "3\n",
      "Flag is True!\n",
      "None\n"
     ]
    }
   ],
   "source": [
    "def add_numbers(x, y, z=None, flag = False):\n",
    "    if flag:\n",
    "        print('Flag is True!')\n",
    "    if z == None:\n",
    "        return x + y\n",
    "    else:\n",
    "        return x + y + z\n",
    "\n",
    "print(add_numbers(1, 2))    \n",
    "print(add_numbers(1, 2, flag = True))"
   ]
  },
  {
   "cell_type": "markdown",
   "metadata": {},
   "source": [
    "__Types and sequences__"
   ]
  },
  {
   "cell_type": "code",
   "execution_count": 21,
   "metadata": {},
   "outputs": [
    {
     "data": {
      "text/plain": [
       "str"
      ]
     },
     "execution_count": 21,
     "metadata": {},
     "output_type": "execute_result"
    }
   ],
   "source": [
    "type('This is a string')"
   ]
  },
  {
   "cell_type": "code",
   "execution_count": 22,
   "metadata": {},
   "outputs": [
    {
     "data": {
      "text/plain": [
       "NoneType"
      ]
     },
     "execution_count": 22,
     "metadata": {},
     "output_type": "execute_result"
    }
   ],
   "source": [
    "type(None)"
   ]
  },
  {
   "cell_type": "code",
   "execution_count": 23,
   "metadata": {},
   "outputs": [
    {
     "data": {
      "text/plain": [
       "int"
      ]
     },
     "execution_count": 23,
     "metadata": {},
     "output_type": "execute_result"
    }
   ],
   "source": [
    "type(1)"
   ]
  },
  {
   "cell_type": "code",
   "execution_count": 24,
   "metadata": {},
   "outputs": [
    {
     "data": {
      "text/plain": [
       "float"
      ]
     },
     "execution_count": 24,
     "metadata": {},
     "output_type": "execute_result"
    }
   ],
   "source": [
    "type(1.0)"
   ]
  },
  {
   "cell_type": "code",
   "execution_count": 25,
   "metadata": {},
   "outputs": [
    {
     "data": {
      "text/plain": [
       "function"
      ]
     },
     "execution_count": 25,
     "metadata": {},
     "output_type": "execute_result"
    }
   ],
   "source": [
    "type(add_numbers)"
   ]
  },
  {
   "cell_type": "code",
   "execution_count": 26,
   "metadata": {},
   "outputs": [],
   "source": [
    "#tuples are immutable\n",
    "#we can use mixed types\n",
    "x = (1, 'a', 2, 'b')\n",
    "type(x)"
   ]
  },
  {
   "cell_type": "code",
   "execution_count": 31,
   "metadata": {},
   "outputs": [
    {
     "name": "stdout",
     "output_type": "stream",
     "text": [
      "<class 'list'>\n"
     ]
    }
   ],
   "source": [
    "#lists are immutable\n",
    "#we can use mixed types\n",
    "x = [1, 'a', 2, 'b']\n",
    "x.append(3)\n",
    "x.append('c')\n",
    "print(type(x))"
   ]
  },
  {
   "cell_type": "code",
   "execution_count": 32,
   "metadata": {},
   "outputs": [
    {
     "name": "stdout",
     "output_type": "stream",
     "text": [
      "1\n",
      "a\n",
      "2\n",
      "b\n",
      "3\n",
      "c\n"
     ]
    }
   ],
   "source": [
    "#for-each loop\n",
    "for item in x:\n",
    "    print(item)"
   ]
  },
  {
   "cell_type": "code",
   "execution_count": 33,
   "metadata": {},
   "outputs": [
    {
     "data": {
      "text/plain": [
       "[1, 2, 3, 4]"
      ]
     },
     "execution_count": 33,
     "metadata": {},
     "output_type": "execute_result"
    }
   ],
   "source": [
    "#operations on lists\n",
    "#+ is concatenation\n",
    "[1,2] + [3,4]"
   ]
  },
  {
   "cell_type": "code",
   "execution_count": 34,
   "metadata": {},
   "outputs": [
    {
     "data": {
      "text/plain": [
       "[1, 1, 1]"
      ]
     },
     "execution_count": 34,
     "metadata": {},
     "output_type": "execute_result"
    }
   ],
   "source": [
    "#* repeats the term\n",
    "[1]*3"
   ]
  },
  {
   "cell_type": "code",
   "execution_count": 35,
   "metadata": {},
   "outputs": [
    {
     "data": {
      "text/plain": [
       "True"
      ]
     },
     "execution_count": 35,
     "metadata": {},
     "output_type": "execute_result"
    }
   ],
   "source": [
    "# in operator on lists\n",
    "1 in [1,2,3]"
   ]
  },
  {
   "cell_type": "code",
   "execution_count": 38,
   "metadata": {},
   "outputs": [
    {
     "name": "stdout",
     "output_type": "stream",
     "text": [
      "T\n",
      "T\n",
      "Th\n",
      "g\n",
      "ri\n",
      "Thi\n",
      "s is a string\n"
     ]
    }
   ],
   "source": [
    "#slicing strings\n",
    "x = 'This is a string'\n",
    "print(x[0])\n",
    "print(x[0:1])\n",
    "print(x[0:2])\n",
    "print(x[-1])\n",
    "print(x[-4:-2])\n",
    "print(x[:3])\n",
    "print(x[3:])"
   ]
  },
  {
   "cell_type": "code",
   "execution_count": 48,
   "metadata": {},
   "outputs": [
    {
     "name": "stdout",
     "output_type": "stream",
     "text": [
      "Bruno Souza\n"
     ]
    }
   ],
   "source": [
    "#split\n",
    "firstname = 'Bruno'\n",
    "lastname = 'Souza'\n",
    "print(firstname + ' ' + lastname)"
   ]
  },
  {
   "cell_type": "code",
   "execution_count": 41,
   "metadata": {},
   "outputs": [
    {
     "data": {
      "text/plain": [
       "26"
      ]
     },
     "execution_count": 41,
     "metadata": {},
     "output_type": "execute_result"
    }
   ],
   "source": [
    "#dictionary\n",
    "dic = {'Bruno' : 26}\n",
    "dic['Bruno']\n"
   ]
  },
  {
   "cell_type": "code",
   "execution_count": 44,
   "metadata": {},
   "outputs": [
    {
     "data": {
      "text/plain": [
       "18"
      ]
     },
     "execution_count": 44,
     "metadata": {},
     "output_type": "execute_result"
    }
   ],
   "source": [
    "dic['Bruno'] = 18\n",
    "dic['Bruno']\n",
    "d"
   ]
  },
  {
   "cell_type": "code",
   "execution_count": null,
   "metadata": {},
   "outputs": [],
   "source": [
    "#interating dictionaties by keys\n",
    "for name in dic:\n",
    "    print(name)\n",
    "#interating dictionaties by values\n",
    "for val in dic.values():\n",
    "    print(val)\n",
    "#interating dictionaties by key and values\n",
    "for k, v in dic.items():\n",
    "    print(k,v)"
   ]
  },
  {
   "cell_type": "markdown",
   "metadata": {},
   "source": [
    "__Dates and Times__"
   ]
  },
  {
   "cell_type": "code",
   "execution_count": 2,
   "metadata": {},
   "outputs": [],
   "source": [
    "import datetime as dt\n",
    "import time as tm"
   ]
  },
  {
   "cell_type": "code",
   "execution_count": 3,
   "metadata": {},
   "outputs": [
    {
     "data": {
      "text/plain": [
       "1656013645.0535712"
      ]
     },
     "execution_count": 3,
     "metadata": {},
     "output_type": "execute_result"
    }
   ],
   "source": [
    "tm.time()"
   ]
  },
  {
   "cell_type": "code",
   "execution_count": 4,
   "metadata": {},
   "outputs": [
    {
     "data": {
      "text/plain": [
       "datetime.datetime(2022, 6, 23, 19, 47, 25, 527659)"
      ]
     },
     "execution_count": 4,
     "metadata": {},
     "output_type": "execute_result"
    }
   ],
   "source": [
    "dtnow = dt.datetime.fromtimestamp(tm.time())\n",
    "dtnow"
   ]
  },
  {
   "cell_type": "code",
   "execution_count": 5,
   "metadata": {},
   "outputs": [
    {
     "data": {
      "text/plain": [
       "(2022, 6, 23, 19, 47, 25)"
      ]
     },
     "execution_count": 5,
     "metadata": {},
     "output_type": "execute_result"
    }
   ],
   "source": [
    "dtnow.year, dtnow.month, dtnow.day, dtnow.hour, dtnow.minute, dtnow.second"
   ]
  },
  {
   "cell_type": "code",
   "execution_count": 6,
   "metadata": {},
   "outputs": [
    {
     "data": {
      "text/plain": [
       "datetime.timedelta(days=100)"
      ]
     },
     "execution_count": 6,
     "metadata": {},
     "output_type": "execute_result"
    }
   ],
   "source": [
    "delta = dt.timedelta(days=100)\n",
    "delta"
   ]
  },
  {
   "cell_type": "code",
   "execution_count": 7,
   "metadata": {},
   "outputs": [],
   "source": [
    "today = dt.date.today()"
   ]
  },
  {
   "cell_type": "code",
   "execution_count": 8,
   "metadata": {},
   "outputs": [
    {
     "data": {
      "text/plain": [
       "datetime.date(2022, 3, 15)"
      ]
     },
     "execution_count": 8,
     "metadata": {},
     "output_type": "execute_result"
    }
   ],
   "source": [
    "today - delta"
   ]
  },
  {
   "cell_type": "code",
   "execution_count": 9,
   "metadata": {},
   "outputs": [
    {
     "data": {
      "text/plain": [
       "True"
      ]
     },
     "execution_count": 9,
     "metadata": {},
     "output_type": "execute_result"
    }
   ],
   "source": [
    "today > today-delta"
   ]
  },
  {
   "cell_type": "markdown",
   "metadata": {},
   "source": [
    "__Advanced Python Lambda and List Comprehensions__"
   ]
  },
  {
   "cell_type": "code",
   "execution_count": 12,
   "metadata": {},
   "outputs": [
    {
     "data": {
      "text/plain": [
       "3"
      ]
     },
     "execution_count": 12,
     "metadata": {},
     "output_type": "execute_result"
    }
   ],
   "source": [
    "#lambda is a python way of creating anonymous functions\n",
    "#they are simple and short lived\n",
    "#used when it's simplier create a function in one line\n",
    "#instead of create a named function\n",
    "\n",
    "myLambdaFunction = lambda a, b, c : a + b\n",
    "\n",
    "myLambdaFunction(1,2,3)\n",
    "\n",
    "#it cannot have a default value for lambda parameters\n",
    "#you cannot have complex logic inside the lambda itself, \n",
    "#because it is limited to a single expression"
   ]
  },
  {
   "cell_type": "code",
   "execution_count": null,
   "metadata": {},
   "outputs": [],
   "source": [
    "#list comprehensions are an inline way of creating lists\n",
    "\n",
    "my_list = []\n",
    "for num in range(0,1000):\n",
    "    if num % 2 == 0:\n",
    "        my_list.append(num)\n",
    "my_list_comprehesion = [num for num in range(0,1000) if num % 2 == 0]\n",
    "\n",
    "print(my_list==my_list_comprehesion)\n",
    "#my_list and my_list_comprehesion are the same    \n",
    "\n",
    "def times_tables():\n",
    "    lst = []\n",
    "    for i in range(10):\n",
    "        for j in range (10):\n",
    "            lst.append(i*j)\n",
    "    return lst\n",
    "\n",
    "print(times_tables() == [j*i for i in range(10) for j in range(10)])"
   ]
  },
  {
   "cell_type": "code",
   "execution_count": 2,
   "metadata": {},
   "outputs": [],
   "source": [
    "#example\n",
    "#Many organizations have user ids which are \n",
    "#constrained in some way. Imagine you work \n",
    "#at an internet service provider and the user ids are \n",
    "#all two letters followed by two numbers (e.g. aa49). \n",
    "#Your task at such an organization might be to hold a \n",
    "#record on the billing activity for each possible user. \n",
    "\n",
    "lowercase = 'abcdefghijklmnopqrstuvwxyz'\n",
    "digits = '0123456789'\n",
    "\n",
    "answer = [c1+c2+d1+d2 for c1 in lowercase for c2 in lowercase for d1 in digits for d2 in digits]\n",
    "#correct_answer == answer"
   ]
  },
  {
   "cell_type": "markdown",
   "metadata": {},
   "source": [
    "__Advanced Python Objects__"
   ]
  },
  {
   "cell_type": "code",
   "execution_count": 5,
   "metadata": {},
   "outputs": [],
   "source": [
    "#creating classes\n",
    "class Person:\n",
    "    department = 'School of Engineering'\n",
    "    \n",
    "    def set_name(self, new_name):\n",
    "        self.name = new_name\n",
    "    def set_location(self, new_location):\n",
    "        self.location = new_location\n",
    "    "
   ]
  },
  {
   "cell_type": "code",
   "execution_count": 8,
   "metadata": {},
   "outputs": [
    {
     "name": "stdout",
     "output_type": "stream",
     "text": [
      "Bruno Souza live in Parnamirim and works in the department School of Engineering\n"
     ]
    }
   ],
   "source": [
    "#Objects in python do not have private or protected members\n",
    "# You´ll always have full access to the atributes and methods \n",
    "#of an instanciated object\n",
    "person = Person()\n",
    "person.set_name('Bruno Souza')\n",
    "person.set_location('Parnamirim')\n",
    "print('{} live in {} and works in the department {}'.format(person.name,person.location, person.department))"
   ]
  },
  {
   "cell_type": "markdown",
   "metadata": {},
   "source": [
    "__Map functions__"
   ]
  },
  {
   "cell_type": "code",
   "execution_count": 10,
   "metadata": {},
   "outputs": [
    {
     "name": "stdout",
     "output_type": "stream",
     "text": [
      "<map object at 0x7f413049bf60>\n",
      "[9.0, 11.0, 12.34, 2.01]\n"
     ]
    }
   ],
   "source": [
    "#functional programming is a programming paradigm \n",
    "#in which you explicilty declare all parameters which could change\n",
    "#through execution of a given function\n",
    "#this functional programming is referred to as being sid-effect free\n",
    "#because is a software contract that describes what can actually change\n",
    "#by calling a function\n",
    "#Functional programming causes one to think more heavily \n",
    "#while chaining operations together\n",
    "\n",
    "#the map built-in funtion is one example of a functinal feature\n",
    "store1 = [10.00, 11.00, 12.34, 2.34]\n",
    "store2 = [9.00,11.10,12.34,2.01]\n",
    "#function below iterates through each list, compares items\n",
    "#and choose the minimum (the cheapest)\n",
    "cheapest = map(min,store1,store2)\n",
    "print(cheapest)#this is a lazy evaluation\n",
    "print(list(cheapest))\n",
    "#the map functon returns a map object\n",
    "#"
   ]
  },
  {
   "cell_type": "markdown",
   "metadata": {},
   "source": [
    "__Numpy__"
   ]
  },
  {
   "cell_type": "code",
   "execution_count": 2,
   "metadata": {},
   "outputs": [],
   "source": [
    "import numpy as np\n",
    "import math"
   ]
  },
  {
   "cell_type": "code",
   "execution_count": 3,
   "metadata": {},
   "outputs": [
    {
     "name": "stdout",
     "output_type": "stream",
     "text": [
      "[1 2 3]\n",
      "1\n",
      "int64\n",
      "(2, 3)\n",
      "[[0. 0. 0.]\n",
      " [0. 0. 0.]]\n",
      "[[1. 1. 1.]\n",
      " [1. 1. 1.]]\n",
      "[[0.54799964 0.09663506 0.56848819]\n",
      " [0.39118738 0.32312946 0.75363671]]\n",
      "[10 12 14 16 18 20 22 24 26 28 30 32 34 36 38 40 42 44 46 48]\n",
      "[0.         0.14285714 0.28571429 0.42857143 0.57142857 0.71428571\n",
      " 0.85714286 1.         1.14285714 1.28571429 1.42857143 1.57142857\n",
      " 1.71428571 1.85714286 2.        ]\n"
     ]
    }
   ],
   "source": [
    "#Array creation\n",
    "#To create an Array we pass in a list as an argument in numpy array\n",
    "\n",
    "a = np.array([1,2,3])\n",
    "print(a)\n",
    "print(a.ndim)#checking the number of dimension dimension\n",
    "print(a.dtype) #checking the type of items in the array\n",
    "\n",
    "b=np.array([[1,2,3],[4,5,6]])#two-dimensional array\n",
    "print(b.shape) #the length of each dimension\n",
    "\n",
    "# all data type in an array is the same\n",
    "\n",
    "#Creating zero arrays specifying their shape\n",
    "d = np.zeros((2,3))\n",
    "print(d)\n",
    "#Creating arrays of ones specifying their shape\n",
    "e = np.ones((2,3))\n",
    "print(e)\n",
    "#Creating arrays of random numbers specifying their shape\n",
    "f = np.random.rand(2,3)\n",
    "print(f)\n",
    "#creating a array with a sequence of numbers\n",
    "#an array of number in the range of 10 and 50 (50 not included)\n",
    "#2 refers to the step\n",
    "g = np.arange(10,50,2)\n",
    "print(g)\n",
    "#similarly we can generate aray of sequence of float numbers\n",
    "h = np.linspace(0,2,15)\n",
    "print(h)#observe that 2 is included "
   ]
  },
  {
   "cell_type": "code",
   "execution_count": 12,
   "metadata": {},
   "outputs": [
    {
     "name": "stdout",
     "output_type": "stream",
     "text": [
      "[ 9 18 27 36]\n",
      "[ 10  40  90 160]\n",
      "[ 27  57  87 117]\n",
      "[ True  True False False]\n",
      "[False  True False  True]\n",
      "[[2 0]\n",
      " [0 4]]\n",
      "[[5 4]\n",
      " [3 4]]\n",
      "30\n",
      "4\n",
      "[1 4 6]\n",
      "[4 5 6]\n",
      "[10 20 30]\n",
      "[30 40]\n",
      "[[3 4]\n",
      " [5 6]]\n",
      "[1 3 5]\n",
      "[[1]\n",
      " [3]\n",
      " [5]]\n",
      "[[1 2]\n",
      " [5 6]]\n"
     ]
    }
   ],
   "source": [
    "#Array operations\n",
    "a = np.array([10,20,30,40])\n",
    "b = np.array([1,2,3,4])\n",
    "\n",
    "c = a-b\n",
    "print(c)\n",
    "d = a*b\n",
    "print(d)\n",
    "\n",
    "e = (a-1)*3\n",
    "print(e)\n",
    "\n",
    "print(a < 21)\n",
    "\n",
    "print(b%2==0)\n",
    "\n",
    "#Matrix multiplication\n",
    "A = np.array([[1,1],[0,1]])\n",
    "B = np.array([[2,0],[3,4]])\n",
    "print(A*B)#elementwise product\n",
    "print(A@B)#matrix product\n",
    "\n",
    "#Indexing\n",
    "a = np.array([10,20,30,40])\n",
    "print(a[2])\n",
    "A = np.array([[1,2],[3,4],[5,6]])\n",
    "print(A[1,1])\n",
    "print(A[[0,1,2],[0,1,1]])\n",
    "\n",
    "##Boolean indexing\n",
    "# it allow us to select arbitrary elements based on conditions.\n",
    "#Find elements in A that are greater than 5\n",
    "print(A[A>3])\n",
    "\n",
    "#Slicing\n",
    "print(a[:3])\n",
    "print(a[2:4])\n",
    "print(A[1:3,:])\n",
    "#Slice an array is called passing by reference. \n",
    "#So modifying the sub array will modify original array\n",
    "\n",
    "#there is difference between these two below\n",
    "print(A[:,0])\n",
    "print(A[:,0:1])\n",
    "\n",
    "#others slicing\n",
    "print(A[[0,2],:])"
   ]
  },
  {
   "cell_type": "markdown",
   "metadata": {},
   "source": [
    "__Manipulating text with Regular expressions__"
   ]
  },
  {
   "cell_type": "code",
   "execution_count": 7,
   "metadata": {},
   "outputs": [],
   "source": [
    "import re"
   ]
  },
  {
   "cell_type": "code",
   "execution_count": 8,
   "metadata": {},
   "outputs": [
    {
     "name": "stdout",
     "output_type": "stream",
     "text": [
      "He is in a bad mood!\n"
     ]
    }
   ],
   "source": [
    "text = \"I am in a bad mood\"\n",
    "if re.search(\"bad\",text):\n",
    "    print(\"He is in a bad mood!\")"
   ]
  },
  {
   "cell_type": "code",
   "execution_count": 9,
   "metadata": {},
   "outputs": [
    {
     "name": "stdout",
     "output_type": "stream",
     "text": [
      "['B', 'B']\n",
      "['A', 'A', 'A', 'A', 'A', 'B', 'B', 'A', 'A']\n",
      "['AC', 'AB']\n",
      "['AC', 'AB']\n",
      "['C', 'B', 'C', 'B']\n",
      "[]\n"
     ]
    }
   ],
   "source": [
    "#Set operator: \"[]\".\n",
    "\n",
    "grades = \"ACAAAABCBAA\"\n",
    "\n",
    "print(re.findall(\"B\",grades))\n",
    "print(re.findall(\"[AB]\",grades))\n",
    "print(re.findall(\"[A][B-C]\",grades))\n",
    "print(re.findall(\"AB|AC\",grades))\n",
    "#^ inside set operatos means negation\n",
    "print(re.findall(\"[^A]\",grades))\n",
    "#so ^ has one mean out of a set operator and other inside\n",
    "print(re.findall(\"^[^A]\",grades))"
   ]
  },
  {
   "cell_type": "code",
   "execution_count": 10,
   "metadata": {},
   "outputs": [
    {
     "name": "stdout",
     "output_type": "stream",
     "text": [
      "['AAAA', 'AA']\n",
      "['AA', 'AA', 'AA']\n",
      "['AA', 'AA', 'AA']\n",
      "['AA', 'AA', 'AA']\n",
      "['AAAABC']\n"
     ]
    }
   ],
   "source": [
    "#Quatifiers are the number of times you want a pattern \n",
    "#to be matched in order to match \n",
    "#sintax: regex{m,n} \n",
    "#where regex is the expression of character we're matching\n",
    "#m is the minimum number of items you want it to be matched\n",
    "#n is the maximum number of items you want\n",
    "\n",
    "print(re.findall(\"A{2,10}\",grades))\n",
    "print(re.findall(\"A{1,1}A{1,1}\",grades))\n",
    "print(re.findall(\"AA\",grades))\n",
    "print(re.findall(\"A{2}\",grades)) #2 in minimum and maximum\n",
    "print(re.findall(\"A{1,10}B{1,10}C{1,10}\",grades))\n",
    "\n",
    "#* to match 0 or more times\n",
    "#? to match 1 or more times\n",
    "#+ to match 1 or more times"
   ]
  },
  {
   "cell_type": "code",
   "execution_count": 11,
   "metadata": {},
   "outputs": [
    {
     "name": "stdout",
     "output_type": "stream",
     "text": [
      "['Overview[edit]', 'Access to public records[edit]', 'Student medical records[edit]']\n",
      "['Overview[edit]', 'Access to public records[edit]', 'Student medical records[edit]']\n",
      "['[2]', '[2]', '[3]', '[4]', '[5]', '[6]', '[7]', '[8]', '[9]']\n",
      "['FERPA', 'ID', 'FERPA', 'FERPA', 'FERPA', 'FERPA', 'FERPA', 'FERPA', 'FERPA', 'FERPA', 'HIPAA', 'FERPA', 'HIPAA']\n",
      "['Education Data', 'Exchange Network', 'Internal Revenue', 'Buckley Amendment', 'Senator James', 'New York', 'Owasso Independent', 'School District', 'Supreme Court', 'Health Insurance', 'Accountability Act']\n"
     ]
    }
   ],
   "source": [
    "with open(\"ferpa.txt\") as file: \n",
    "    wiki = file.read()\n",
    "\n",
    "print(re.findall('[\\w ]*\\[edit\\]',wiki)) \n",
    "print(re.findall('[\\w].*\\[edit\\]',wiki))\n",
    "#this last one prints the same of the previous but it's not the same\n",
    "#the first mathches for any word character including white spaces([\\w ])\n",
    "#that appears one or more time (*) immediatly followed by '[edit]'\n",
    "\n",
    "#\\w inside the set operator ([\\w])\n",
    "#is used to match any letter, including digits or numbers\n",
    "#\\w is a metacharacter and indicates a special pattern \n",
    "#of any letter or digit\n",
    "\n",
    "\n",
    "print(re.findall('\\[[0-9]\\]',wiki))\n",
    "print(re.findall('[A-Z][A-Z]+',wiki))\n",
    "print(re.findall('[A-Z][a-z]+ [A-Z][a-z]+',wiki))"
   ]
  },
  {
   "cell_type": "code",
   "execution_count": 12,
   "metadata": {},
   "outputs": [
    {
     "name": "stdout",
     "output_type": "stream",
     "text": [
      "[('Overview', '[edit]'), ('Access to public records', '[edit]'), ('Student medical records', '[edit]')]\n",
      "Overview[edit]\n",
      "Overview\n",
      "[edit]\n",
      "Access to public records[edit]\n",
      "Access to public records\n",
      "[edit]\n",
      "Student medical records[edit]\n",
      "Student medical records\n",
      "[edit]\n",
      "Overview\n",
      "Access to public records\n",
      "Student medical records\n"
     ]
    }
   ],
   "source": [
    "#Groups\n",
    "#to group patterns together you use parentheses\n",
    "print(re.findall('([\\w].*)(\\[edit\\])',wiki))\n",
    "\n",
    "for item in re.finditer('([\\w].*)(\\[edit\\])',wiki):\n",
    "    print(item.group(0))\n",
    "    print(item.group(1))\n",
    "    print(item.group(2))\n",
    "\n",
    "#labeling or naming groups, for that use the syntax (?P<name_of_group>)\n",
    "#where the parenthesis starts the group \n",
    "#the ?P indicates that this is an extension to basic regex\n",
    "#and <name> is the dictionary key that we want to use wrapped in <>\n",
    "\n",
    "for item in re.finditer('(?P<title>[\\w].*)(?P<edit_link>\\[edit\\])',wiki):\n",
    "    print(item.groupdict()['title'])\n",
    "\n",
    "#other regex\n",
    "#a . for any single character which is not a newline\n",
    "# a \\d for any digit\n",
    "# and \\s for any whitespace character, like spaces and tabs\n",
    "\n",
    "\n",
    "\n"
   ]
  },
  {
   "cell_type": "code",
   "execution_count": 17,
   "metadata": {},
   "outputs": [
    {
     "name": "stdout",
     "output_type": "stream",
     "text": [
      "{'title': 'Dhammakaya Open University', 'city': 'Azusa', 'state': 'California'}\n",
      "{'title': 'Dharmakirti College', 'city': 'Tucson', 'state': 'Arizona'}\n",
      "{'title': 'Dharma Realm Buddhist University', 'city': 'Ukiah', 'state': 'California'}\n",
      "{'title': 'Ewam Buddhist Institute', 'city': 'Arlee', 'state': 'Montana'}\n",
      "{'title': 'Institute of Buddhist Studies', 'city': 'Berkeley', 'state': 'California'}\n",
      "{'title': 'Maitripa College', 'city': 'Portland', 'state': 'Oregon'}\n",
      "{'title': 'University of the West', 'city': 'Rosemead', 'state': 'California'}\n",
      "{'title': 'Won Institute of Graduate Studies', 'city': 'Glenside', 'state': 'Pennsylvania'}\n"
     ]
    }
   ],
   "source": [
    "#Look-ahead and look-behind\n",
    "with open(\"buddhist.txt\") as file: \n",
    "    wiki = file.read()\n",
    "pattern = \"\"\"\n",
    "(?P<title>.*) #the university title\n",
    "(\\ –\\ located\\ in\\ ) #an indicator of the location\n",
    "(?P<city>\\w*) #the city the university is in\n",
    "(,\\ ) #separator for the state\n",
    "(?P<state>\\w*) #the state the city is in\n",
    "\"\"\"\n",
    "for item in re.finditer(pattern,wiki,re.VERBOSE):\n",
    "    print(item.groupdict())"
   ]
  },
  {
   "cell_type": "code",
   "execution_count": 21,
   "metadata": {},
   "outputs": [
    {
     "name": "stdout",
     "output_type": "stream",
     "text": [
      "['#askwell', '#pregnancy', '#Colorado', '#VegetarianThanksgiving', '#FallPrevention', '#Ebola', '#Ebola', '#ebola', '#Ebola', '#Ebola', '#EbolaHysteria', '#AskNYT', '#Ebola', '#Ebola', '#Liberia', '#Excalibur', '#ebola', '#Ebola', '#dallas', '#nobelprize2014', '#ebola', '#ebola', '#monrovia', '#ebola', '#nobelprize2014', '#ebola', '#nobelprize2014', '#Medicine', '#Ebola', '#Monrovia', '#Ebola', '#smell', '#Ebola', '#Ebola', '#Ebola', '#Monrovia', '#Ebola', '#ebola', '#monrovia', '#liberia', '#benzos', '#ClimateChange', '#Whole', '#Wheat', '#Focaccia', '#Tomatoes', '#Olives', '#Recipes', '#Health', '#Ebola', '#Monrovia', '#Liberia', '#Ebola', '#Ebola', '#Liberia', '#Ebola', '#blood', '#Ebola', '#organtrafficking', '#EbolaOutbreak', '#SierraLeone', '#Freetown', '#SierraLeone', '#ebolaoutbreak', '#kenema', '#ebola', '#Ebola', '#ebola', '#ebola', '#Ebola', '#ASMR', '#AIDS2014', '#AIDS', '#MH17', '#benzos']\n"
     ]
    }
   ],
   "source": [
    "with open(\"nytimeshealth.txt\", \"r\") as file: \n",
    "    health = file.read()\n",
    "pattern = \"#[\\w\\d]*(?=\\s)\"\n",
    "print(re.findall(pattern,health))\n"
   ]
  },
  {
   "cell_type": "code",
   "execution_count": 45,
   "metadata": {},
   "outputs": [
    {
     "name": "stdout",
     "output_type": "stream",
     "text": [
      "['www.', 'aBC.', 'abc.', 'ab_c.', 'de8f.', 'abc..']\n",
      "['9971-5-0210-0', '960-425-059-0']\n",
      "['10.1038/nphys1170', '10.1002/0470841559.ch1']\n"
     ]
    }
   ],
   "source": [
    "a = 'www.aBC.com, abc.com, ab_c.de8f.com, abc, abc..com'\n",
    "print(re.findall('[\\w]+\\.+',a))\n",
    "ISBNs = '9971-5-0210-0, 960-425-059-0'\n",
    "print(re.findall('\\d{4}-\\d{1}-\\d{4}-\\d{1}|\\d{3}-\\d{3}-\\d{3}-\\d{1}',ISBNs))\n",
    "dois = 'doi:10.1038/nphys1170, doi:10.1002/0470841559.ch1'\n",
    "print(re.findall('[0-9\\.]+/[\\w\\.]+',dois))"
   ]
  },
  {
   "cell_type": "code",
   "execution_count": null,
   "metadata": {},
   "outputs": [],
   "source": []
  }
 ],
 "metadata": {
  "kernelspec": {
   "display_name": "Python 3",
   "language": "python",
   "name": "python3"
  },
  "language_info": {
   "codemirror_mode": {
    "name": "ipython",
    "version": 3
   },
   "file_extension": ".py",
   "mimetype": "text/x-python",
   "name": "python",
   "nbconvert_exporter": "python",
   "pygments_lexer": "ipython3",
   "version": "3.7.3"
  }
 },
 "nbformat": 4,
 "nbformat_minor": 2
}
