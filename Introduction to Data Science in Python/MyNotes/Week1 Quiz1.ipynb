{
 "cells": [
  {
   "cell_type": "code",
   "execution_count": 13,
   "metadata": {},
   "outputs": [
    {
     "name": "stdout",
     "output_type": "stream",
     "text": [
      "True\n",
      "[[0.70969714 0.6259323  0.62790487 0.81301469]\n",
      " [0.5690959  0.784987   0.3729628  0.32576395]\n",
      " [0.96661886 0.24923818 0.50535719 0.02459973]\n",
      " [0.94458264 0.35642009 0.10643422 0.79106658]]\n",
      "1.0997371575402815\n",
      "1.0997371575402815\n",
      "[0.70969714 0.6259323  0.62790487 0.81301469 0.5690959  0.784987\n",
      " 0.3729628  0.32576395 0.96661886 0.24923818 0.50535719 0.02459973\n",
      " 0.94458264 0.35642009 0.10643422 0.79106658] [0.97469981 0.23385883 0.58830481 0.813104   0.64696915 0.3779089\n",
      " 0.37540355 0.18098622 0.33796016 0.30578716 0.55170962 0.00768338\n",
      " 0.90987303 0.16676245 0.68251567 0.93692054]\n"
     ]
    }
   ],
   "source": [
    "import numpy as np\n",
    "\n",
    "a1 = np.random.rand(4)\n",
    "a2 = np.random.rand(4, 1)\n",
    "a3 = np.array([[1, 2, 3, 4]])\n",
    "a4 = np.arange(1, 4, 1)\n",
    "a5 = np.linspace(1 ,4, 4)\n",
    "\n",
    "print(a5.shape == a1.shape)\n",
    "\n",
    "def l2_dist(a, b):\n",
    "    result = ((a - b) * (a - b)).sum()\n",
    "    result = result ** 0.5\n",
    "    return result \n",
    "\n",
    "a = np.random.rand(4, 4)\n",
    "b = np.random.rand(4, 4)\n",
    "print(a)\n",
    "print(l2_dist(a,b))\n",
    "print(l2_dist(a.T,b.T))\n",
    "print(np.reshape(a, (4 * 4)), np.reshape(b, (4 * 4)))\n",
    "#print(np.reshape(a, (4 * 4)), np.reshape(b, (4 * 4, 1)))\n"
   ]
  },
  {
   "cell_type": "code",
   "execution_count": 19,
   "metadata": {},
   "outputs": [
    {
     "name": "stdout",
     "output_type": "stream",
     "text": [
      "5\n"
     ]
    }
   ],
   "source": [
    "import re\n",
    "s = 'ACAABAACAAAB'\n",
    "result = re.findall('A{1,2}', s)\n",
    "L = len(result)\n",
    "print(L)"
   ]
  },
  {
   "cell_type": "code",
   "execution_count": 45,
   "metadata": {},
   "outputs": [
    {
     "name": "stdout",
     "output_type": "stream",
     "text": [
      "['google.com', 'www.baidu.com']\n"
     ]
    }
   ],
   "source": [
    "string = 'I refer to https://google.com and I never refer http://www.baidu.com if I have to search anything'\n",
    "result = re.findall('[https]:\\/\\/([A-Za-z0-9.]*)', string)\n",
    "print(result)"
   ]
  },
  {
   "cell_type": "code",
   "execution_count": 41,
   "metadata": {},
   "outputs": [
    {
     "name": "stdout",
     "output_type": "stream",
     "text": [
      "4\n"
     ]
    }
   ],
   "source": [
    "text=r'''Everyone has the following fundamental freedoms:\n",
    "    (a) freedom of conscience and religion;\n",
    "    (b) freedom of thought, belief, opinion and expression, including freedom of the press and other media of communication;\n",
    "    (c) freedom of peaceful assembly; and\n",
    "    (d) freedom of association.'''\n",
    "\n",
    "import re\n",
    "pattern = '\\(.\\)'\n",
    "print(len(re.findall(pattern,text)))"
   ]
  },
  {
   "cell_type": "code",
   "execution_count": 56,
   "metadata": {},
   "outputs": [
    {
     "name": "stdout",
     "output_type": "stream",
     "text": [
      "['[Amy]']\n"
     ]
    }
   ],
   "source": [
    "simple_string = \"\"\"[Amy] is 5 years old, and her sister Mary is 2 years old. \n",
    "    Ruth and Peter, their parents, have 3 kids.\"\"\"\n",
    "    \n",
    "print(re.findall('\\[([A-Z][a-z]+\\]',simple_string))\n"
   ]
  },
  {
   "cell_type": "code",
   "execution_count": 55,
   "metadata": {},
   "outputs": [
    {
     "name": "stdout",
     "output_type": "stream",
     "text": [
      "['Amy', 'is', '5', 'years', 'old', 'and', 'her', 'sister', 'Mary', 'is', '2', 'years', 'old', 'Ruth', 'and', 'Peter', 'their', 'parents', 'have', '3', 'kids']\n"
     ]
    }
   ],
   "source": [
    "simple_string = \"\"\"Amy is 5 years old, and her sister Mary is 2 years old. \n",
    "    Ruth and Peter, their parents, have 3 kids.\"\"\"\n",
    "    \n",
    "print(re.findall('[\\w\\-]+',simple_string))"
   ]
  },
  {
   "cell_type": "code",
   "execution_count": null,
   "metadata": {},
   "outputs": [],
   "source": []
  }
 ],
 "metadata": {
  "kernelspec": {
   "display_name": "Python 3",
   "language": "python",
   "name": "python3"
  },
  "language_info": {
   "codemirror_mode": {
    "name": "ipython",
    "version": 3
   },
   "file_extension": ".py",
   "mimetype": "text/x-python",
   "name": "python",
   "nbconvert_exporter": "python",
   "pygments_lexer": "ipython3",
   "version": "3.7.3"
  }
 },
 "nbformat": 4,
 "nbformat_minor": 2
}
